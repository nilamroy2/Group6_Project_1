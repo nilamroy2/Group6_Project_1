{
 "cells": [
  {
   "cell_type": "code",
   "execution_count": null,
   "metadata": {},
   "outputs": [],
   "source": [
    "import pandas as pd\n",
    "import numpy as np\n",
    "import matplotlib.pyplot as plt\n",
    "import matplotlib.ticker as ticker"
   ]
  },
  {
   "cell_type": "code",
   "execution_count": null,
   "metadata": {
    "scrolled": true
   },
   "outputs": [],
   "source": [
    "df_2014 = pd.read_csv(\"2014_provider_summary.csv\")\n",
    "df_2014_by_state = pd.read_csv(\"2014_by_State_Medicare_Charge_Inpatient.csv\")\n",
    "df_2015 = pd.read_csv(\"2015_provider_summary.csv\")\n",
    "df_2015_by_state = pd.read_csv(\"2015_by_State_Medicare_Charge_Inpatient.csv\")\n",
    "df_2016 = pd.read_csv(\"2016_provider_summary.csv\")\n",
    "df_2016_national = pd.read_csv(\"2016_National_Medicare_Charge_Inpatient.csv\")\n",
    "df_2016_by_state = pd.read_csv(\"2016_by_State_Medicare_Charge_Inpatient.csv\")\n"
   ]
  },
  {
   "cell_type": "code",
   "execution_count": null,
   "metadata": {},
   "outputs": [],
   "source": [
    "#Format number columns for consistency\n",
    "df_2016_by_state[' Total Discharges '] = df_2016_by_state[' Total Discharges '].str.replace('$','').str.replace(',','')\n",
    "df_2016_by_state[' Total Discharges '] = df_2016_by_state[' Total Discharges '].astype(np.float64)\n",
    "\n",
    "df_2016_by_state['Average Covered Charges'] = df_2016_by_state['Average Covered Charges'].str.replace('$','').str.replace(',','')\n",
    "df_2016_by_state['Average Covered Charges'] = df_2016_by_state['Average Covered Charges'].astype(np.float64)\n",
    "\n",
    "df_2016_by_state['Average Total Payments'] = df_2016_by_state['Average Total Payments'].str.replace('$','').str.replace(',','')\n",
    "df_2016_by_state['Average Total Payments'] = df_2016_by_state['Average Total Payments'].astype(np.float64)\n",
    "\n",
    "df_2016_by_state['Average Medicare Payments'] = df_2016_by_state['Average Medicare Payments'].str.replace('$','').str.replace(',','')\n",
    "df_2016_by_state['Average Medicare Payments'] = df_2016_by_state['Average Medicare Payments'].astype(np.float64)\n"
   ]
  },
  {
   "cell_type": "code",
   "execution_count": null,
   "metadata": {},
   "outputs": [],
   "source": [
    "df_2016['Average Covered Charges'] = df_2016['Average Covered Charges'].str.replace('$','').str.replace(',','')\n",
    "df_2016['Average Covered Charges'] = df_2016['Average Covered Charges'].astype(np.float)"
   ]
  },
  {
   "cell_type": "code",
   "execution_count": null,
   "metadata": {},
   "outputs": [],
   "source": [
    "#Create new Columns in each dataframe with its year\n",
    "df_2014['Year'] = 2014\n",
    "df_2015['Year'] = 2015\n",
    "df_2016['Year'] = 2016"
   ]
  },
  {
   "cell_type": "code",
   "execution_count": null,
   "metadata": {
    "scrolled": true
   },
   "outputs": [],
   "source": [
    "#Concatenate three years of dataframes into one\n",
    "df_all = pd.concat([df_2014, df_2015, df_2016], axis=0)\n",
    "\n",
    "df_all.head(3)"
   ]
  },
  {
   "cell_type": "code",
   "execution_count": null,
   "metadata": {},
   "outputs": [],
   "source": [
    "#Summary dataframe with only columns to be utilized\n",
    "df_all = df_all[['Year', 'Provider State', 'Average Covered Charges']]\n",
    "\n",
    "df_all.head(3)"
   ]
  },
  {
   "cell_type": "code",
   "execution_count": null,
   "metadata": {
    "scrolled": true
   },
   "outputs": [],
   "source": [
    "df_all_by_state = df_all.groupby(['Year', 'Provider State']).sum()\n",
    "\n",
    "df_all_by_state.head(3)"
   ]
  },
  {
   "cell_type": "code",
   "execution_count": null,
   "metadata": {},
   "outputs": [],
   "source": [
    "#Set states as index\n",
    "df_all_by_state.reset_index(['Year', 'Provider State'], inplace=True)\n",
    "df_all_by_state.head(3)\n",
    "\n",
    "# df_all_by_state['Year'].astype('int')"
   ]
  },
  {
   "cell_type": "code",
   "execution_count": null,
   "metadata": {},
   "outputs": [],
   "source": [
    "df_highs_by_year = df_all_by_state.sort_values(by='Average Covered Charges', ascending=False)\n",
    "\n",
    "df_highs_by_year = df_highs_by_year.head(15)\n",
    "df_highs_by_year"
   ]
  },
  {
   "cell_type": "code",
   "execution_count": null,
   "metadata": {},
   "outputs": [],
   "source": [
    "df_highs_by_yearCA = df_highs_by_year.head(3)\n",
    "df_highs_by_yearFL = df_highs_by_year.iloc[3:6]\n",
    "df_highs_by_yearTX = df_highs_by_year.iloc[6:9]\n",
    "df_highs_by_yearNY = df_highs_by_year.iloc[9:11]\n",
    "df_highs_by_yearPA = df_highs_by_year.iloc[11:13]"
   ]
  },
  {
   "cell_type": "code",
   "execution_count": null,
   "metadata": {},
   "outputs": [],
   "source": [
    "# multiple line plot\n",
    "plt.plot('Year', 'Average Covered Charges', data=df_highs_by_yearCA, marker='P', markerfacecolor='blue', markersize=12, color='skyblue', linewidth=4, label='California')\n",
    "plt.plot('Year', 'Average Covered Charges', data=df_highs_by_yearFL, marker='P', markersize=12, color='olive', linewidth=2, label='Florida')\n",
    "plt.plot('Year', 'Average Covered Charges', data=df_highs_by_yearTX, color='red', linewidth=2, marker='P', markersize=12, label=\"Texas\")\n",
    "plt.plot('Year', 'Average Covered Charges', data=df_highs_by_yearNY, color='lightblue', linewidth=2, marker='P', markersize=12, label=\"New York\")\n",
    "plt.plot('Year', 'Average Covered Charges', data=df_highs_by_yearPA, color='orange', linewidth=2, marker='P', markersize=12, label=\"Pennsylvania\")\n",
    "\n",
    "#Legend\n",
    "plt.legend(bbox_to_anchor=(1, .88), prop={'size': 10})\n",
    "\n",
    "#Change y label to plain numbers\n",
    "plt.ticklabel_format(axis='y', style='plain')\n",
    "\n",
    "plt.suptitle('States with Highest Total Charges for Medicare-Covered Services (2014-2016)')\n",
    "\n",
    "#x and y axis labels\n",
    "plt.xlabel ('Years')\n",
    "plt.xticks(df_highs_by_yearCA['Year'])\n",
    "plt.ylabel('($)Dollars')\n",
    "\n",
    "#Add grid\n",
    "plt.grid()\n",
    "\n",
    "#Save to file\n",
    "plt.savefig('StatesHighestTotalCharges.png')"
   ]
  },
  {
   "cell_type": "code",
   "execution_count": null,
   "metadata": {},
   "outputs": [],
   "source": [
    "set_2014 = df_all_by_state.loc[df_all_by_state['Year'] == 2014]"
   ]
  },
  {
   "cell_type": "code",
   "execution_count": null,
   "metadata": {},
   "outputs": [],
   "source": [
    "set_2015 = df_all_by_state.loc[df_all_by_state['Year'] == 2015]"
   ]
  },
  {
   "cell_type": "code",
   "execution_count": null,
   "metadata": {},
   "outputs": [],
   "source": [
    "set_2016 = df_all_by_state.loc[df_all_by_state['Year'] == 2016]"
   ]
  },
  {
   "cell_type": "code",
   "execution_count": null,
   "metadata": {},
   "outputs": [],
   "source": [
    "set_2016 = df_all_by_state.loc[df_all_by_state['Year'] == 2016]\n",
    "\n",
    "avg_charges_2016 = set_2016.nlargest(3, 'Average Covered Charges')\n",
    "\n",
    "avg_charges_2016"
   ]
  },
  {
   "cell_type": "code",
   "execution_count": null,
   "metadata": {},
   "outputs": [],
   "source": [
    "provider_count_by_state_2016 = df_2016.groupby('Provider State')['Provider Name'].nunique().reset_index(name='Provider Count')\n",
    "\n",
    "provider_count_by_state_2016.head(3)"
   ]
  },
  {
   "cell_type": "code",
   "execution_count": null,
   "metadata": {},
   "outputs": [],
   "source": [
    "provider_count_by_state_2015 = df_2015.groupby('Provider State')['Provider Name'].nunique().reset_index(name='Provider Count')\n",
    "\n",
    "provider_count_by_state_2015.head(3)"
   ]
  },
  {
   "cell_type": "code",
   "execution_count": null,
   "metadata": {},
   "outputs": [],
   "source": [
    "provider_count_by_state_2014 = df_2014.groupby('Provider State')['Provider Name'].nunique().reset_index(name='Provider Count')\n",
    "\n",
    "provider_count_by_state_2014.head(3)"
   ]
  },
  {
   "cell_type": "code",
   "execution_count": null,
   "metadata": {},
   "outputs": [],
   "source": [
    "df_2016_final = pd.merge(set_2016, provider_count_by_state_2016, on='Provider State')"
   ]
  },
  {
   "cell_type": "code",
   "execution_count": null,
   "metadata": {},
   "outputs": [],
   "source": [
    "df_2016_final['Avg Charge per Provider'] = df_2016_final['Average Covered Charges']/df_2016_final['Provider Count']"
   ]
  },
  {
   "cell_type": "code",
   "execution_count": null,
   "metadata": {},
   "outputs": [],
   "source": [
    "df_2016_final.head()"
   ]
  },
  {
   "cell_type": "code",
   "execution_count": null,
   "metadata": {},
   "outputs": [],
   "source": [
    "highs_per_provider2016 = df_2016_final.sort_values(by='Avg Charge per Provider', ascending=False).head(5)\n",
    "highs_per_provider2016"
   ]
  },
  {
   "cell_type": "code",
   "execution_count": null,
   "metadata": {},
   "outputs": [],
   "source": [
    "lows_per_provider2016 = df_2016_final.sort_values(by='Avg Charge per Provider', ascending=True).head(5)\n",
    "lows_per_provider2016"
   ]
  },
  {
   "cell_type": "code",
   "execution_count": null,
   "metadata": {},
   "outputs": [],
   "source": [
    "df_2015_final = pd.merge(set_2015, provider_count_by_state_2015, on='Provider State')"
   ]
  },
  {
   "cell_type": "code",
   "execution_count": null,
   "metadata": {},
   "outputs": [],
   "source": [
    "df_2015_final['Avg Charge per Provider'] = df_2015_final['Average Covered Charges']/df_2015_final['Provider Count']\n",
    "\n",
    "df_2015_final.head(3)"
   ]
  },
  {
   "cell_type": "code",
   "execution_count": null,
   "metadata": {},
   "outputs": [],
   "source": [
    "highs_per_provider2015 = df_2015_final.sort_values(by='Avg Charge per Provider', ascending=False).head(5)\n",
    "highs_per_provider2015"
   ]
  },
  {
   "cell_type": "code",
   "execution_count": null,
   "metadata": {},
   "outputs": [],
   "source": [
    "lows_per_provider2015 = df_2015_final.sort_values(by='Avg Charge per Provider', ascending=True).head(5)\n",
    "lows_per_provider2015"
   ]
  },
  {
   "cell_type": "code",
   "execution_count": null,
   "metadata": {},
   "outputs": [],
   "source": [
    "df_2014_final = pd.merge(set_2014, provider_count_by_state_2014, on='Provider State')"
   ]
  },
  {
   "cell_type": "code",
   "execution_count": null,
   "metadata": {},
   "outputs": [],
   "source": [
    "df_2014_final['Avg Charge per Provider'] = df_2014_final['Average Covered Charges']/df_2014_final['Provider Count']\n",
    "\n",
    "df_2014_final.head(3)"
   ]
  },
  {
   "cell_type": "code",
   "execution_count": null,
   "metadata": {},
   "outputs": [],
   "source": [
    "highs_per_provider2014 = df_2014_final.sort_values(by='Avg Charge per Provider', ascending=False).head(5)\n",
    "highs_per_provider2014"
   ]
  },
  {
   "cell_type": "code",
   "execution_count": null,
   "metadata": {},
   "outputs": [],
   "source": [
    "lows_per_provider2014 = df_2014_final.sort_values(by='Avg Charge per Provider', ascending=True).head(5)\n",
    "lows_per_provider2014"
   ]
  },
  {
   "cell_type": "code",
   "execution_count": null,
   "metadata": {
    "scrolled": true
   },
   "outputs": [],
   "source": [
    "# Format currency style\n",
    "highs_per_provider2016.style.format({'Avg Charge per Provider':\"${:,.2f}\"})\n",
    "\n",
    "#Format graph\n",
    "plt.plot(highs_per_provider2016['Provider State'],highs_per_provider2016['Avg Charge per Provider'],\n",
    "                marker='o', markersize=12, color='darkred', label='2016')\n",
    "plt.plot(highs_per_provider2015['Provider State'],highs_per_provider2015['Avg Charge per Provider'],\n",
    "                marker='o', markersize=12, color='olive', label='2015')\n",
    "plt.plot(highs_per_provider2014['Provider State'],highs_per_provider2014['Avg Charge per Provider'],\n",
    "                marker='o', markersize=12, color='navy', label='2014')\n",
    "\n",
    "#Legend\n",
    "plt.legend(loc='best')\n",
    "\n",
    "#Title and axis labels\n",
    "plt.suptitle('Highest Average Charges per Provider')\n",
    "\n",
    "#x and y axes labels\n",
    "plt.xlabel('States')\n",
    "plt.ylabel('($)Dollars in Millions')\n",
    "\n",
    "#Add grid\n",
    "plt.grid()\n",
    "\n",
    "#Save to file\n",
    "plt.savefig('LineHighestAverageChargesperProvider.png')\n"
   ]
  },
  {
   "cell_type": "code",
   "execution_count": null,
   "metadata": {},
   "outputs": [],
   "source": [
    "# Format currency style\n",
    "highs_per_provider2016.style.format({'Avg Charge per Provider':\"${:,.2f}\"})\n",
    "\n",
    "#Format same graph as above but with bars to match lowest $ per provider\n",
    "plt.bar(highs_per_provider2016['Provider State'],highs_per_provider2016['Avg Charge per Provider'],\n",
    "                width= .8, color='lightskyblue', label='2016')\n",
    "plt.bar(highs_per_provider2015['Provider State'],highs_per_provider2015['Avg Charge per Provider'],\n",
    "                width= .5, color='orange', label='2015')\n",
    "plt.bar(highs_per_provider2014['Provider State'],highs_per_provider2014['Avg Charge per Provider'],\n",
    "                width= .3, color='navy', label='2014')\n",
    "\n",
    "#Legend\n",
    "plt.legend(loc='best')\n",
    "\n",
    "#Title and axis labels\n",
    "plt.suptitle('Highest Average Charges per Provider')\n",
    "\n",
    "#x and y axes labels\n",
    "plt.xlabel('States')\n",
    "plt.ylabel('($)Dollars in Millions')\n",
    "\n",
    "#Save to file\n",
    "plt.savefig('HighestAverageChargesperProvider.png')\n"
   ]
  },
  {
   "cell_type": "code",
   "execution_count": null,
   "metadata": {},
   "outputs": [],
   "source": [
    "# Format currency style\n",
    "lows_per_provider2016.style.format({'Avg Charge per Provider':\"${:,.2f}\"})\n",
    "\n",
    "plt.bar(lows_per_provider2016['Provider State'],lows_per_provider2016['Avg Charge per Provider'], width=.8, color='lightskyblue', label='2016')\n",
    "plt.bar(lows_per_provider2015['Provider State'],lows_per_provider2015['Avg Charge per Provider'], width=.5, color='orange', label='2015')\n",
    "plt.bar(lows_per_provider2014['Provider State'],lows_per_provider2014['Avg Charge per Provider'], width=.3, color='navy', label='2014')\n",
    "\n",
    "\n",
    "#Legend\n",
    "plt.legend(loc='best')\n",
    "\n",
    "#Title and axis labels\n",
    "plt.suptitle('Lowest Average Charges per Provider')\n",
    "\n",
    "#x and y axes labels\n",
    "plt.xlabel('States')\n",
    "plt.ylabel('($)Dollars')\n",
    "\n",
    "#Save to file\n",
    "plt.savefig('LowestAverageChargesperProvider.png')\n"
   ]
  },
  {
   "cell_type": "code",
   "execution_count": null,
   "metadata": {},
   "outputs": [],
   "source": []
  }
 ],
 "metadata": {
  "kernelspec": {
   "display_name": "Python 3",
   "language": "python",
   "name": "python3"
  },
  "language_info": {
   "codemirror_mode": {
    "name": "ipython",
    "version": 3
   },
   "file_extension": ".py",
   "mimetype": "text/x-python",
   "name": "python",
   "nbconvert_exporter": "python",
   "pygments_lexer": "ipython3",
   "version": "3.7.0"
  }
 },
 "nbformat": 4,
 "nbformat_minor": 2
}
