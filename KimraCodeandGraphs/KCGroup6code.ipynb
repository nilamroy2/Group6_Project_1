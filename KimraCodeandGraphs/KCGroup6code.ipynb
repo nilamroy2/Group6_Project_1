{
 "cells": [
  {
   "cell_type": "code",
   "execution_count": 1,
   "metadata": {},
   "outputs": [],
   "source": [
    "import pandas as pd\n",
    "import numpy as np\n",
    "import matplotlib.pyplot as plt\n",
    "import matplotlib.ticker as ticker"
   ]
  },
  {
   "cell_type": "code",
   "execution_count": 2,
   "metadata": {
    "scrolled": true
   },
   "outputs": [
    {
     "name": "stderr",
     "output_type": "stream",
     "text": [
      "C:\\Users\\jp_ba\\Anaconda3\\lib\\site-packages\\IPython\\core\\interactiveshell.py:2785: DtypeWarning: Columns (8) have mixed types. Specify dtype option on import or set low_memory=False.\n",
      "  interactivity=interactivity, compiler=compiler, result=result)\n"
     ]
    }
   ],
   "source": [
    "df_2014 = pd.read_csv(\"2014_provider_summary.csv\")\n",
    "df_2014_by_state = pd.read_csv(\"2014_by_State_Medicare_Charge_Inpatient.csv\")\n",
    "df_2015 = pd.read_csv(\"2015_provider_summary.csv\")\n",
    "df_2015_by_state = pd.read_csv(\"2015_by_State_Medicare_Charge_Inpatient.csv\")\n",
    "df_2016 = pd.read_csv(\"2016_provider_summary.csv\")\n",
    "df_2016_national = pd.read_csv(\"2016_National_Medicare_Charge_Inpatient.csv\")\n",
    "df_2016_by_state = pd.read_csv(\"2016_by_State_Medicare_Charge_Inpatient.csv\")\n"
   ]
  },
  {
   "cell_type": "code",
   "execution_count": 3,
   "metadata": {},
   "outputs": [],
   "source": [
    "#Format number columns for consistency\n",
    "df_2016_by_state[' Total Discharges '] = df_2016_by_state[' Total Discharges '].str.replace('$','').str.replace(',','')\n",
    "df_2016_by_state[' Total Discharges '] = df_2016_by_state[' Total Discharges '].astype(np.float64)\n",
    "\n",
    "df_2016_by_state['Average Covered Charges'] = df_2016_by_state['Average Covered Charges'].str.replace('$','').str.replace(',','')\n",
    "df_2016_by_state['Average Covered Charges'] = df_2016_by_state['Average Covered Charges'].astype(np.float64)\n",
    "\n",
    "df_2016_by_state['Average Total Payments'] = df_2016_by_state['Average Total Payments'].str.replace('$','').str.replace(',','')\n",
    "df_2016_by_state['Average Total Payments'] = df_2016_by_state['Average Total Payments'].astype(np.float64)\n",
    "\n",
    "df_2016_by_state['Average Medicare Payments'] = df_2016_by_state['Average Medicare Payments'].str.replace('$','').str.replace(',','')\n",
    "df_2016_by_state['Average Medicare Payments'] = df_2016_by_state['Average Medicare Payments'].astype(np.float64)\n"
   ]
  },
  {
   "cell_type": "code",
   "execution_count": 4,
   "metadata": {},
   "outputs": [],
   "source": [
    "df_2016['Average Covered Charges'] = df_2016['Average Covered Charges'].str.replace('$','').str.replace(',','')\n",
    "df_2016['Average Covered Charges'] = df_2016['Average Covered Charges'].astype(np.float)"
   ]
  },
  {
   "cell_type": "code",
   "execution_count": 5,
   "metadata": {},
   "outputs": [],
   "source": [
    "#Create new Columns in each dataframe with its year\n",
    "df_2014['Year'] = 2014\n",
    "df_2015['Year'] = 2015\n",
    "df_2016['Year'] = 2016"
   ]
  },
  {
   "cell_type": "code",
   "execution_count": 6,
   "metadata": {
    "scrolled": true
   },
   "outputs": [
    {
     "data": {
      "text/html": [
       "<div>\n",
       "<style scoped>\n",
       "    .dataframe tbody tr th:only-of-type {\n",
       "        vertical-align: middle;\n",
       "    }\n",
       "\n",
       "    .dataframe tbody tr th {\n",
       "        vertical-align: top;\n",
       "    }\n",
       "\n",
       "    .dataframe thead th {\n",
       "        text-align: right;\n",
       "    }\n",
       "</style>\n",
       "<table border=\"1\" class=\"dataframe\">\n",
       "  <thead>\n",
       "    <tr style=\"text-align: right;\">\n",
       "      <th></th>\n",
       "      <th>DRG Definition</th>\n",
       "      <th>Provider Id</th>\n",
       "      <th>Provider Name</th>\n",
       "      <th>Provider Street Address</th>\n",
       "      <th>Provider City</th>\n",
       "      <th>Provider State</th>\n",
       "      <th>Provider Zip Code</th>\n",
       "      <th>Hospital Referral Region (HRR) Description</th>\n",
       "      <th>Total Discharges</th>\n",
       "      <th>Average Covered Charges</th>\n",
       "      <th>Average Total Payments</th>\n",
       "      <th>Average Medicare Payments</th>\n",
       "      <th>Year</th>\n",
       "    </tr>\n",
       "  </thead>\n",
       "  <tbody>\n",
       "    <tr>\n",
       "      <th>0</th>\n",
       "      <td>001 - HEART TRANSPLANT OR IMPLANT OF HEART ASS...</td>\n",
       "      <td>10033</td>\n",
       "      <td>UNIVERSITY OF ALABAMA HOSPITAL</td>\n",
       "      <td>619 SOUTH 19TH STREET</td>\n",
       "      <td>BIRMINGHAM</td>\n",
       "      <td>AL</td>\n",
       "      <td>35233</td>\n",
       "      <td>AL - Birmingham</td>\n",
       "      <td>13</td>\n",
       "      <td>1172866.385</td>\n",
       "      <td>251876</td>\n",
       "      <td>244458</td>\n",
       "      <td>2014</td>\n",
       "    </tr>\n",
       "    <tr>\n",
       "      <th>1</th>\n",
       "      <td>001 - HEART TRANSPLANT OR IMPLANT OF HEART ASS...</td>\n",
       "      <td>30103</td>\n",
       "      <td>MAYO CLINIC HOSPITAL</td>\n",
       "      <td>5777 EAST MAYO BOULEVARD</td>\n",
       "      <td>PHOENIX</td>\n",
       "      <td>AZ</td>\n",
       "      <td>85054</td>\n",
       "      <td>AZ - Phoenix</td>\n",
       "      <td>20</td>\n",
       "      <td>437531.300</td>\n",
       "      <td>240423</td>\n",
       "      <td>133510</td>\n",
       "      <td>2014</td>\n",
       "    </tr>\n",
       "    <tr>\n",
       "      <th>2</th>\n",
       "      <td>001 - HEART TRANSPLANT OR IMPLANT OF HEART ASS...</td>\n",
       "      <td>50108</td>\n",
       "      <td>SUTTER GENERAL HOSPITAL</td>\n",
       "      <td>2801 L STREET</td>\n",
       "      <td>SACRAMENTO</td>\n",
       "      <td>CA</td>\n",
       "      <td>95816</td>\n",
       "      <td>CA - Sacramento</td>\n",
       "      <td>25</td>\n",
       "      <td>815674.120</td>\n",
       "      <td>233197</td>\n",
       "      <td>221682</td>\n",
       "      <td>2014</td>\n",
       "    </tr>\n",
       "  </tbody>\n",
       "</table>\n",
       "</div>"
      ],
      "text/plain": [
       "                                      DRG Definition  Provider Id  \\\n",
       "0  001 - HEART TRANSPLANT OR IMPLANT OF HEART ASS...        10033   \n",
       "1  001 - HEART TRANSPLANT OR IMPLANT OF HEART ASS...        30103   \n",
       "2  001 - HEART TRANSPLANT OR IMPLANT OF HEART ASS...        50108   \n",
       "\n",
       "                    Provider Name   Provider Street Address Provider City  \\\n",
       "0  UNIVERSITY OF ALABAMA HOSPITAL     619 SOUTH 19TH STREET    BIRMINGHAM   \n",
       "1            MAYO CLINIC HOSPITAL  5777 EAST MAYO BOULEVARD       PHOENIX   \n",
       "2         SUTTER GENERAL HOSPITAL             2801 L STREET    SACRAMENTO   \n",
       "\n",
       "  Provider State  Provider Zip Code  \\\n",
       "0             AL              35233   \n",
       "1             AZ              85054   \n",
       "2             CA              95816   \n",
       "\n",
       "  Hospital Referral Region (HRR) Description Total Discharges  \\\n",
       "0                            AL - Birmingham               13   \n",
       "1                               AZ - Phoenix               20   \n",
       "2                            CA - Sacramento               25   \n",
       "\n",
       "   Average Covered Charges Average Total Payments Average Medicare Payments  \\\n",
       "0              1172866.385                 251876                    244458   \n",
       "1               437531.300                 240423                    133510   \n",
       "2               815674.120                 233197                    221682   \n",
       "\n",
       "   Year  \n",
       "0  2014  \n",
       "1  2014  \n",
       "2  2014  "
      ]
     },
     "execution_count": 6,
     "metadata": {},
     "output_type": "execute_result"
    }
   ],
   "source": [
    "#Concatenate three years of dataframes into one\n",
    "df_all = pd.concat([df_2014, df_2015, df_2016], axis=0)\n",
    "\n",
    "df_all.head(3)"
   ]
  },
  {
   "cell_type": "code",
   "execution_count": 7,
   "metadata": {},
   "outputs": [
    {
     "data": {
      "text/html": [
       "<div>\n",
       "<style scoped>\n",
       "    .dataframe tbody tr th:only-of-type {\n",
       "        vertical-align: middle;\n",
       "    }\n",
       "\n",
       "    .dataframe tbody tr th {\n",
       "        vertical-align: top;\n",
       "    }\n",
       "\n",
       "    .dataframe thead th {\n",
       "        text-align: right;\n",
       "    }\n",
       "</style>\n",
       "<table border=\"1\" class=\"dataframe\">\n",
       "  <thead>\n",
       "    <tr style=\"text-align: right;\">\n",
       "      <th></th>\n",
       "      <th>Year</th>\n",
       "      <th>Provider State</th>\n",
       "      <th>Average Covered Charges</th>\n",
       "    </tr>\n",
       "  </thead>\n",
       "  <tbody>\n",
       "    <tr>\n",
       "      <th>0</th>\n",
       "      <td>2014</td>\n",
       "      <td>AL</td>\n",
       "      <td>1172866.385</td>\n",
       "    </tr>\n",
       "    <tr>\n",
       "      <th>1</th>\n",
       "      <td>2014</td>\n",
       "      <td>AZ</td>\n",
       "      <td>437531.300</td>\n",
       "    </tr>\n",
       "    <tr>\n",
       "      <th>2</th>\n",
       "      <td>2014</td>\n",
       "      <td>CA</td>\n",
       "      <td>815674.120</td>\n",
       "    </tr>\n",
       "  </tbody>\n",
       "</table>\n",
       "</div>"
      ],
      "text/plain": [
       "   Year Provider State  Average Covered Charges\n",
       "0  2014             AL              1172866.385\n",
       "1  2014             AZ               437531.300\n",
       "2  2014             CA               815674.120"
      ]
     },
     "execution_count": 7,
     "metadata": {},
     "output_type": "execute_result"
    }
   ],
   "source": [
    "#Summary dataframe with only columns to be utilized\n",
    "df_all = df_all[['Year', 'Provider State', 'Average Covered Charges']]\n",
    "\n",
    "df_all.head(3)"
   ]
  },
  {
   "cell_type": "code",
   "execution_count": 8,
   "metadata": {
    "scrolled": true
   },
   "outputs": [
    {
     "data": {
      "text/html": [
       "<div>\n",
       "<style scoped>\n",
       "    .dataframe tbody tr th:only-of-type {\n",
       "        vertical-align: middle;\n",
       "    }\n",
       "\n",
       "    .dataframe tbody tr th {\n",
       "        vertical-align: top;\n",
       "    }\n",
       "\n",
       "    .dataframe thead th {\n",
       "        text-align: right;\n",
       "    }\n",
       "</style>\n",
       "<table border=\"1\" class=\"dataframe\">\n",
       "  <thead>\n",
       "    <tr style=\"text-align: right;\">\n",
       "      <th></th>\n",
       "      <th></th>\n",
       "      <th>Average Covered Charges</th>\n",
       "    </tr>\n",
       "    <tr>\n",
       "      <th>Year</th>\n",
       "      <th>Provider State</th>\n",
       "      <th></th>\n",
       "    </tr>\n",
       "  </thead>\n",
       "  <tbody>\n",
       "    <tr>\n",
       "      <th rowspan=\"3\" valign=\"top\">2014</th>\n",
       "      <th>AK</th>\n",
       "      <td>1.992402e+07</td>\n",
       "    </tr>\n",
       "    <tr>\n",
       "      <th>AL</th>\n",
       "      <td>2.020924e+08</td>\n",
       "    </tr>\n",
       "    <tr>\n",
       "      <th>AR</th>\n",
       "      <td>9.364658e+07</td>\n",
       "    </tr>\n",
       "  </tbody>\n",
       "</table>\n",
       "</div>"
      ],
      "text/plain": [
       "                     Average Covered Charges\n",
       "Year Provider State                         \n",
       "2014 AK                         1.992402e+07\n",
       "     AL                         2.020924e+08\n",
       "     AR                         9.364658e+07"
      ]
     },
     "execution_count": 8,
     "metadata": {},
     "output_type": "execute_result"
    }
   ],
   "source": [
    "df_all_by_state = df_all.groupby(['Year', 'Provider State']).sum()\n",
    "\n",
    "df_all_by_state.head(3)"
   ]
  },
  {
   "cell_type": "code",
   "execution_count": 9,
   "metadata": {},
   "outputs": [
    {
     "data": {
      "text/html": [
       "<div>\n",
       "<style scoped>\n",
       "    .dataframe tbody tr th:only-of-type {\n",
       "        vertical-align: middle;\n",
       "    }\n",
       "\n",
       "    .dataframe tbody tr th {\n",
       "        vertical-align: top;\n",
       "    }\n",
       "\n",
       "    .dataframe thead th {\n",
       "        text-align: right;\n",
       "    }\n",
       "</style>\n",
       "<table border=\"1\" class=\"dataframe\">\n",
       "  <thead>\n",
       "    <tr style=\"text-align: right;\">\n",
       "      <th></th>\n",
       "      <th>Year</th>\n",
       "      <th>Provider State</th>\n",
       "      <th>Average Covered Charges</th>\n",
       "    </tr>\n",
       "  </thead>\n",
       "  <tbody>\n",
       "    <tr>\n",
       "      <th>0</th>\n",
       "      <td>2014</td>\n",
       "      <td>AK</td>\n",
       "      <td>1.992402e+07</td>\n",
       "    </tr>\n",
       "    <tr>\n",
       "      <th>1</th>\n",
       "      <td>2014</td>\n",
       "      <td>AL</td>\n",
       "      <td>2.020924e+08</td>\n",
       "    </tr>\n",
       "    <tr>\n",
       "      <th>2</th>\n",
       "      <td>2014</td>\n",
       "      <td>AR</td>\n",
       "      <td>9.364658e+07</td>\n",
       "    </tr>\n",
       "  </tbody>\n",
       "</table>\n",
       "</div>"
      ],
      "text/plain": [
       "   Year Provider State  Average Covered Charges\n",
       "0  2014             AK             1.992402e+07\n",
       "1  2014             AL             2.020924e+08\n",
       "2  2014             AR             9.364658e+07"
      ]
     },
     "execution_count": 9,
     "metadata": {},
     "output_type": "execute_result"
    }
   ],
   "source": [
    "#Set states as index\n",
    "df_all_by_state.reset_index(['Year', 'Provider State'], inplace=True)\n",
    "df_all_by_state.head(3)\n",
    "\n",
    "# df_all_by_state['Year'].astype('int')"
   ]
  },
  {
   "cell_type": "code",
   "execution_count": 10,
   "metadata": {},
   "outputs": [
    {
     "data": {
      "text/html": [
       "<div>\n",
       "<style scoped>\n",
       "    .dataframe tbody tr th:only-of-type {\n",
       "        vertical-align: middle;\n",
       "    }\n",
       "\n",
       "    .dataframe tbody tr th {\n",
       "        vertical-align: top;\n",
       "    }\n",
       "\n",
       "    .dataframe thead th {\n",
       "        text-align: right;\n",
       "    }\n",
       "</style>\n",
       "<table border=\"1\" class=\"dataframe\">\n",
       "  <thead>\n",
       "    <tr style=\"text-align: right;\">\n",
       "      <th></th>\n",
       "      <th>Year</th>\n",
       "      <th>Provider State</th>\n",
       "      <th>Average Covered Charges</th>\n",
       "    </tr>\n",
       "  </thead>\n",
       "  <tbody>\n",
       "    <tr>\n",
       "      <th>106</th>\n",
       "      <td>2016</td>\n",
       "      <td>CA</td>\n",
       "      <td>1.543589e+09</td>\n",
       "    </tr>\n",
       "    <tr>\n",
       "      <th>55</th>\n",
       "      <td>2015</td>\n",
       "      <td>CA</td>\n",
       "      <td>1.476417e+09</td>\n",
       "    </tr>\n",
       "    <tr>\n",
       "      <th>4</th>\n",
       "      <td>2014</td>\n",
       "      <td>CA</td>\n",
       "      <td>1.453879e+09</td>\n",
       "    </tr>\n",
       "    <tr>\n",
       "      <th>111</th>\n",
       "      <td>2016</td>\n",
       "      <td>FL</td>\n",
       "      <td>1.085126e+09</td>\n",
       "    </tr>\n",
       "    <tr>\n",
       "      <th>60</th>\n",
       "      <td>2015</td>\n",
       "      <td>FL</td>\n",
       "      <td>1.043925e+09</td>\n",
       "    </tr>\n",
       "    <tr>\n",
       "      <th>9</th>\n",
       "      <td>2014</td>\n",
       "      <td>FL</td>\n",
       "      <td>9.785903e+08</td>\n",
       "    </tr>\n",
       "    <tr>\n",
       "      <th>145</th>\n",
       "      <td>2016</td>\n",
       "      <td>TX</td>\n",
       "      <td>9.463731e+08</td>\n",
       "    </tr>\n",
       "    <tr>\n",
       "      <th>94</th>\n",
       "      <td>2015</td>\n",
       "      <td>TX</td>\n",
       "      <td>9.032801e+08</td>\n",
       "    </tr>\n",
       "    <tr>\n",
       "      <th>43</th>\n",
       "      <td>2014</td>\n",
       "      <td>TX</td>\n",
       "      <td>8.588009e+08</td>\n",
       "    </tr>\n",
       "    <tr>\n",
       "      <th>136</th>\n",
       "      <td>2016</td>\n",
       "      <td>NY</td>\n",
       "      <td>6.628270e+08</td>\n",
       "    </tr>\n",
       "    <tr>\n",
       "      <th>85</th>\n",
       "      <td>2015</td>\n",
       "      <td>NY</td>\n",
       "      <td>6.228428e+08</td>\n",
       "    </tr>\n",
       "    <tr>\n",
       "      <th>140</th>\n",
       "      <td>2016</td>\n",
       "      <td>PA</td>\n",
       "      <td>6.160299e+08</td>\n",
       "    </tr>\n",
       "    <tr>\n",
       "      <th>89</th>\n",
       "      <td>2015</td>\n",
       "      <td>PA</td>\n",
       "      <td>6.073128e+08</td>\n",
       "    </tr>\n",
       "    <tr>\n",
       "      <th>82</th>\n",
       "      <td>2015</td>\n",
       "      <td>NJ</td>\n",
       "      <td>5.888640e+08</td>\n",
       "    </tr>\n",
       "    <tr>\n",
       "      <th>34</th>\n",
       "      <td>2014</td>\n",
       "      <td>NY</td>\n",
       "      <td>5.885746e+08</td>\n",
       "    </tr>\n",
       "  </tbody>\n",
       "</table>\n",
       "</div>"
      ],
      "text/plain": [
       "     Year Provider State  Average Covered Charges\n",
       "106  2016             CA             1.543589e+09\n",
       "55   2015             CA             1.476417e+09\n",
       "4    2014             CA             1.453879e+09\n",
       "111  2016             FL             1.085126e+09\n",
       "60   2015             FL             1.043925e+09\n",
       "9    2014             FL             9.785903e+08\n",
       "145  2016             TX             9.463731e+08\n",
       "94   2015             TX             9.032801e+08\n",
       "43   2014             TX             8.588009e+08\n",
       "136  2016             NY             6.628270e+08\n",
       "85   2015             NY             6.228428e+08\n",
       "140  2016             PA             6.160299e+08\n",
       "89   2015             PA             6.073128e+08\n",
       "82   2015             NJ             5.888640e+08\n",
       "34   2014             NY             5.885746e+08"
      ]
     },
     "execution_count": 10,
     "metadata": {},
     "output_type": "execute_result"
    }
   ],
   "source": [
    "df_highs_by_year = df_all_by_state.sort_values(by='Average Covered Charges', ascending=False)\n",
    "\n",
    "df_highs_by_year = df_highs_by_year.head(15)\n",
    "df_highs_by_year"
   ]
  },
  {
   "cell_type": "code",
   "execution_count": 11,
   "metadata": {},
   "outputs": [],
   "source": [
    "df_highs_by_yearCA = df_highs_by_year.head(3)\n",
    "df_highs_by_yearFL = df_highs_by_year.iloc[3:6]\n",
    "df_highs_by_yearTX = df_highs_by_year.iloc[6:9]\n",
    "df_highs_by_yearNY = df_highs_by_year.iloc[9:11]\n",
    "df_highs_by_yearPA = df_highs_by_year.iloc[11:13]"
   ]
  },
  {
   "cell_type": "code",
   "execution_count": 16,
   "metadata": {},
   "outputs": [
    {
     "data": {
      "image/png": "[encoded data removed]",
      "text/plain": [
       "<Figure size 432x288 with 1 Axes>"
      ]
     },
     "metadata": {
      "needs_background": "light"
     },
     "output_type": "display_data"
    }
   ],
   "source": [
    "# multiple line plot\n",
    "plt.plot('Year', 'Average Covered Charges', data=df_highs_by_yearCA, marker='P', markerfacecolor='blue', markersize=12, color='skyblue', linewidth=4, label='California')\n",
    "plt.plot('Year', 'Average Covered Charges', data=df_highs_by_yearFL, marker='P', markersize=12, color='olive', linewidth=2, label='Florida')\n",
    "plt.plot('Year', 'Average Covered Charges', data=df_highs_by_yearTX, color='red', linewidth=2, marker='P', markersize=12, label=\"Texas\")\n",
    "plt.plot('Year', 'Average Covered Charges', data=df_highs_by_yearNY, color='lightblue', linewidth=2, marker='P', markersize=12, label=\"New York\")\n",
    "plt.plot('Year', 'Average Covered Charges', data=df_highs_by_yearPA, color='orange', linewidth=2, marker='P', markersize=12, label=\"Pennsylvania\")\n",
    "\n",
    "#Legend\n",
    "plt.legend(bbox_to_anchor=(1, .88), prop={'size': 10})\n",
    "\n",
    "#Change y label to plain numbers\n",
    "plt.ticklabel_format(axis='y', style='plain')\n",
    "\n",
    "plt.suptitle('States with Highest Total Charges for Medicare-Covered Services (2014-2016)')\n",
    "\n",
    "#x and y axis labels\n",
    "plt.xlabel ('Years')\n",
    "plt.xticks(df_highs_by_yearCA['Year'])\n",
    "plt.ylabel('($)Dollars')\n",
    "\n",
    "#Add grid\n",
    "plt.grid()\n",
    "\n",
    "#Save to file\n",
    "plt.savefig('StatesHighestTotalCharges.png')"
   ]
  },
  {
   "cell_type": "code",
   "execution_count": null,
   "metadata": {},
   "outputs": [],
   "source": [
    "set_2014 = df_all_by_state.loc[df_all_by_state['Year'] == 2014]"
   ]
  },
  {
   "cell_type": "code",
   "execution_count": null,
   "metadata": {},
   "outputs": [],
   "source": [
    "set_2015 = df_all_by_state.loc[df_all_by_state['Year'] == 2015]"
   ]
  },
  {
   "cell_type": "code",
   "execution_count": null,
   "metadata": {},
   "outputs": [],
   "source": [
    "set_2016 = df_all_by_state.loc[df_all_by_state['Year'] == 2016]"
   ]
  },
  {
   "cell_type": "code",
   "execution_count": null,
   "metadata": {},
   "outputs": [],
   "source": [
    "set_2016 = df_all_by_state.loc[df_all_by_state['Year'] == 2016]\n",
    "\n",
    "avg_charges_2016 = set_2016.nlargest(3, 'Average Covered Charges')\n",
    "\n",
    "avg_charges_2016"
   ]
  },
  {
   "cell_type": "code",
   "execution_count": null,
   "metadata": {},
   "outputs": [],
   "source": [
    "provider_count_by_state_2016 = df_2016.groupby('Provider State')['Provider Name'].nunique().reset_index(name='Provider Count')\n",
    "\n",
    "provider_count_by_state_2016.head(3)"
   ]
  },
  {
   "cell_type": "code",
   "execution_count": null,
   "metadata": {},
   "outputs": [],
   "source": [
    "provider_count_by_state_2015 = df_2015.groupby('Provider State')['Provider Name'].nunique().reset_index(name='Provider Count')\n",
    "\n",
    "provider_count_by_state_2015.head(3)"
   ]
  },
  {
   "cell_type": "code",
   "execution_count": null,
   "metadata": {},
   "outputs": [],
   "source": [
    "provider_count_by_state_2014 = df_2014.groupby('Provider State')['Provider Name'].nunique().reset_index(name='Provider Count')\n",
    "\n",
    "provider_count_by_state_2014.head(3)"
   ]
  },
  {
   "cell_type": "code",
   "execution_count": null,
   "metadata": {},
   "outputs": [],
   "source": [
    "df_2016_final = pd.merge(set_2016, provider_count_by_state_2016, on='Provider State')"
   ]
  },
  {
   "cell_type": "code",
   "execution_count": null,
   "metadata": {},
   "outputs": [],
   "source": [
    "df_2016_final['Avg Charge per Provider'] = df_2016_final['Average Covered Charges']/df_2016_final['Provider Count']"
   ]
  },
  {
   "cell_type": "code",
   "execution_count": null,
   "metadata": {},
   "outputs": [],
   "source": [
    "df_2016_final.head()"
   ]
  },
  {
   "cell_type": "code",
   "execution_count": null,
   "metadata": {},
   "outputs": [],
   "source": [
    "highs_per_provider2016 = df_2016_final.sort_values(by='Avg Charge per Provider', ascending=False).head(5)\n",
    "highs_per_provider2016"
   ]
  },
  {
   "cell_type": "code",
   "execution_count": null,
   "metadata": {},
   "outputs": [],
   "source": [
    "lows_per_provider2016 = df_2016_final.sort_values(by='Avg Charge per Provider', ascending=True).head(5)\n",
    "lows_per_provider2016"
   ]
  },
  {
   "cell_type": "code",
   "execution_count": null,
   "metadata": {},
   "outputs": [],
   "source": [
    "df_2015_final = pd.merge(set_2015, provider_count_by_state_2015, on='Provider State')"
   ]
  },
  {
   "cell_type": "code",
   "execution_count": null,
   "metadata": {},
   "outputs": [],
   "source": [
    "df_2015_final['Avg Charge per Provider'] = df_2015_final['Average Covered Charges']/df_2015_final['Provider Count']\n",
    "\n",
    "df_2015_final.head(3)"
   ]
  },
  {
   "cell_type": "code",
   "execution_count": null,
   "metadata": {},
   "outputs": [],
   "source": [
    "highs_per_provider2015 = df_2015_final.sort_values(by='Avg Charge per Provider', ascending=False).head(5)\n",
    "highs_per_provider2015"
   ]
  },
  {
   "cell_type": "code",
   "execution_count": null,
   "metadata": {},
   "outputs": [],
   "source": [
    "lows_per_provider2015 = df_2015_final.sort_values(by='Avg Charge per Provider', ascending=True).head(5)\n",
    "lows_per_provider2015"
   ]
  },
  {
   "cell_type": "code",
   "execution_count": null,
   "metadata": {},
   "outputs": [],
   "source": [
    "df_2014_final = pd.merge(set_2014, provider_count_by_state_2014, on='Provider State')"
   ]
  },
  {
   "cell_type": "code",
   "execution_count": null,
   "metadata": {},
   "outputs": [],
   "source": [
    "df_2014_final['Avg Charge per Provider'] = df_2014_final['Average Covered Charges']/df_2014_final['Provider Count']\n",
    "\n",
    "df_2014_final.head(3)"
   ]
  },
  {
   "cell_type": "code",
   "execution_count": null,
   "metadata": {},
   "outputs": [],
   "source": [
    "highs_per_provider2014 = df_2014_final.sort_values(by='Avg Charge per Provider', ascending=False).head(5)\n",
    "highs_per_provider2014"
   ]
  },
  {
   "cell_type": "code",
   "execution_count": null,
   "metadata": {},
   "outputs": [],
   "source": [
    "lows_per_provider2014 = df_2014_final.sort_values(by='Avg Charge per Provider', ascending=True).head(5)\n",
    "lows_per_provider2014"
   ]
  },
  {
   "cell_type": "code",
   "execution_count": null,
   "metadata": {
    "scrolled": true
   },
   "outputs": [],
   "source": [
    "# Format currency style\n",
    "highs_per_provider2016.style.format({'Avg Charge per Provider':\"${:,.2f}\"})\n",
    "\n",
    "#Format graph\n",
    "plt.plot(highs_per_provider2016['Provider State'],highs_per_provider2016['Avg Charge per Provider'],\n",
    "                marker='o', markersize=12, color='darkred', label='2016')\n",
    "plt.plot(highs_per_provider2015['Provider State'],highs_per_provider2015['Avg Charge per Provider'],\n",
    "                marker='o', markersize=12, color='olive', label='2015')\n",
    "plt.plot(highs_per_provider2014['Provider State'],highs_per_provider2014['Avg Charge per Provider'],\n",
    "                marker='o', markersize=12, color='navy', label='2014')\n",
    "\n",
    "#Legend\n",
    "plt.legend(loc='best')\n",
    "\n",
    "#Title and axis labels\n",
    "plt.suptitle('Highest Average Charges per Provider')\n",
    "\n",
    "#x and y axes labels\n",
    "plt.xlabel('States')\n",
    "plt.ylabel('($)Dollars in Millions')\n",
    "\n",
    "#Add grid\n",
    "plt.grid()\n",
    "\n",
    "#Save to file\n",
    "plt.savefig('LineHighestAverageChargesperProvider.png')\n"
   ]
  },
  {
   "cell_type": "code",
   "execution_count": null,
   "metadata": {},
   "outputs": [],
   "source": [
    "# Format currency style\n",
    "highs_per_provider2016.style.format({'Avg Charge per Provider':\"${:,.2f}\"})\n",
    "\n",
    "#Format same graph as above but with bars to match lowest $ per provider\n",
    "plt.bar(highs_per_provider2016['Provider State'],highs_per_provider2016['Avg Charge per Provider'],\n",
    "                width= .8, color='lightskyblue', label='2016')\n",
    "plt.bar(highs_per_provider2015['Provider State'],highs_per_provider2015['Avg Charge per Provider'],\n",
    "                width= .5, color='orange', label='2015')\n",
    "plt.bar(highs_per_provider2014['Provider State'],highs_per_provider2014['Avg Charge per Provider'],\n",
    "                width= .3, color='navy', label='2014')\n",
    "\n",
    "#Legend\n",
    "plt.legend(loc='best')\n",
    "\n",
    "#Title and axis labels\n",
    "plt.suptitle('Highest Average Charges per Provider')\n",
    "\n",
    "#x and y axes labels\n",
    "plt.xlabel('States')\n",
    "plt.ylabel('($)Dollars in Millions')\n",
    "\n",
    "#Save to file\n",
    "plt.savefig('HighestAverageChargesperProvider.png')\n"
   ]
  },
  {
   "cell_type": "code",
   "execution_count": null,
   "metadata": {},
   "outputs": [],
   "source": [
    "# Format currency style\n",
    "lows_per_provider2016.style.format({'Avg Charge per Provider':\"${:,.2f}\"})\n",
    "\n",
    "plt.bar(lows_per_provider2016['Provider State'],lows_per_provider2016['Avg Charge per Provider'], width=.8, color='lightskyblue', label='2016')\n",
    "plt.bar(lows_per_provider2015['Provider State'],lows_per_provider2015['Avg Charge per Provider'], width=.5, color='orange', label='2015')\n",
    "plt.bar(lows_per_provider2014['Provider State'],lows_per_provider2014['Avg Charge per Provider'], width=.3, color='navy', label='2014')\n",
    "\n",
    "\n",
    "#Legend\n",
    "plt.legend(loc='best')\n",
    "\n",
    "#Title and axis labels\n",
    "plt.suptitle('Lowest Average Charges per Provider')\n",
    "\n",
    "#x and y axes labels\n",
    "plt.xlabel('States')\n",
    "plt.ylabel('($)Dollars')\n",
    "\n",
    "#Save to file\n",
    "plt.savefig('LowestAverageChargesperProvider.png')\n"
   ]
  },
  {
   "cell_type": "code",
   "execution_count": null,
   "metadata": {},
   "outputs": [],
   "source": []
  }
 ],
 "metadata": {
  "kernelspec": {
   "display_name": "Python 3",
   "language": "python",
   "name": "python3"
  },
  "language_info": {
   "codemirror_mode": {
    "name": "ipython",
    "version": 3
   },
   "file_extension": ".py",
   "mimetype": "text/x-python",
   "name": "python",
   "nbconvert_exporter": "python",
   "pygments_lexer": "ipython3",
   "version": "3.7.0"
  }
 },
 "nbformat": 4,
 "nbformat_minor": 2
}
